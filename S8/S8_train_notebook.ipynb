{
 "cells": [
  {
   "cell_type": "code",
   "execution_count": null,
   "metadata": {},
   "outputs": [
    {
     "name": "stdout",
     "output_type": "stream",
     "text": [
      "Using device: cuda\n"
     ]
    },
    {
     "name": "stderr",
     "output_type": "stream",
     "text": [
      "/home/xpz1/tsai_work/erav3/git_folder/ERAV3/S8/transforms.py:50: UserWarning: Argument 'fill_value' is not valid and will be ignored.\n",
      "  A.CoarseDropout(max_holes=1, max_height=8, max_width=8, min_height=4, min_width=4, fill_value=0, mask_fill_value=None, p=0.5),\n",
      "/home/xpz1/tsai_work/erav3/git_folder/ERAV3/S8/transforms.py:50: UserWarning: Argument 'mask_fill_value' is not valid and will be ignored.\n",
      "  A.CoarseDropout(max_holes=1, max_height=8, max_width=8, min_height=4, min_width=4, fill_value=0, mask_fill_value=None, p=0.5),\n"
     ]
    },
    {
     "name": "stdout",
     "output_type": "stream",
     "text": [
      "Downloading https://www.cs.toronto.edu/~kriz/cifar-10-python.tar.gz to ./data/cifar-10-python.tar.gz\n"
     ]
    },
    {
     "name": "stderr",
     "output_type": "stream",
     "text": [
      "100%|██████████| 170498071/170498071 [00:04<00:00, 36726588.58it/s]\n"
     ]
    },
    {
     "name": "stdout",
     "output_type": "stream",
     "text": [
      "Extracting ./data/cifar-10-python.tar.gz to ./data\n",
      "Files already downloaded and verified\n",
      "\n",
      "Displaying sample training images...\n",
      "\n",
      "Class distribution in sample batch:\n",
      "plane: 12 images\n",
      "car: 15 images\n",
      "bird: 11 images\n",
      "cat: 12 images\n",
      "deer: 11 images\n",
      "dog: 19 images\n",
      "frog: 15 images\n",
      "horse: 10 images\n",
      "ship: 14 images\n",
      "truck: 9 images\n",
      "----------------------------------------------------------------\n",
      "        Layer (type)               Output Shape         Param #\n",
      "================================================================\n",
      "            Conv2d-1           [-1, 32, 32, 32]             864\n",
      "       BatchNorm2d-2           [-1, 32, 32, 32]              64\n",
      "              ReLU-3           [-1, 32, 32, 32]               0\n",
      "            Conv2d-4           [-1, 64, 16, 16]           2,048\n",
      "       BatchNorm2d-5           [-1, 64, 16, 16]             128\n",
      "            Conv2d-6           [-1, 64, 32, 32]           2,048\n",
      "       BatchNorm2d-7           [-1, 64, 32, 32]             128\n",
      "              ReLU-8           [-1, 64, 32, 32]               0\n",
      "            Conv2d-9           [-1, 64, 16, 16]             576\n",
      "      BatchNorm2d-10           [-1, 64, 16, 16]             128\n",
      "             ReLU-11           [-1, 64, 16, 16]               0\n",
      "           Conv2d-12           [-1, 64, 16, 16]          36,864\n",
      "             ReLU-13           [-1, 64, 16, 16]               0\n",
      "      BatchNorm2d-14           [-1, 64, 16, 16]             128\n",
      "           Conv2d-15          [-1, 128, 16, 16]           8,192\n",
      "      BatchNorm2d-16          [-1, 128, 16, 16]             256\n",
      "             ReLU-17          [-1, 128, 16, 16]               0\n",
      "           Conv2d-18           [-1, 64, 16, 16]           8,192\n",
      "      BatchNorm2d-19           [-1, 64, 16, 16]             128\n",
      "             ReLU-20           [-1, 64, 16, 16]               0\n",
      "          Dropout-21           [-1, 64, 16, 16]               0\n",
      "           Conv2d-22             [-1, 96, 8, 8]           6,144\n",
      "      BatchNorm2d-23             [-1, 96, 8, 8]             192\n",
      "           Conv2d-24           [-1, 64, 16, 16]          36,864\n",
      "             ReLU-25           [-1, 64, 16, 16]               0\n",
      "      BatchNorm2d-26           [-1, 64, 16, 16]             128\n",
      "           Conv2d-27           [-1, 96, 16, 16]           6,144\n",
      "      BatchNorm2d-28           [-1, 96, 16, 16]             192\n",
      "             ReLU-29           [-1, 96, 16, 16]               0\n",
      "           Conv2d-30             [-1, 96, 8, 8]             864\n",
      "      BatchNorm2d-31             [-1, 96, 8, 8]             192\n",
      "             ReLU-32             [-1, 96, 8, 8]               0\n",
      "           Conv2d-33            [-1, 128, 8, 8]          12,288\n",
      "      BatchNorm2d-34            [-1, 128, 8, 8]             256\n",
      "             ReLU-35            [-1, 128, 8, 8]               0\n",
      "           Conv2d-36             [-1, 96, 8, 8]          12,288\n",
      "      BatchNorm2d-37             [-1, 96, 8, 8]             192\n",
      "             ReLU-38             [-1, 96, 8, 8]               0\n",
      "          Dropout-39             [-1, 96, 8, 8]               0\n",
      "           Conv2d-40            [-1, 128, 4, 4]          12,288\n",
      "      BatchNorm2d-41            [-1, 128, 4, 4]             256\n",
      "           Conv2d-42            [-1, 128, 8, 8]          12,288\n",
      "      BatchNorm2d-43            [-1, 128, 8, 8]             256\n",
      "             ReLU-44            [-1, 128, 8, 8]               0\n",
      "           Conv2d-45            [-1, 128, 4, 4]           1,152\n",
      "      BatchNorm2d-46            [-1, 128, 4, 4]             256\n",
      "             ReLU-47            [-1, 128, 4, 4]               0\n",
      "           Conv2d-48            [-1, 128, 4, 4]          16,384\n",
      "      BatchNorm2d-49            [-1, 128, 4, 4]             256\n",
      "             ReLU-50            [-1, 128, 4, 4]               0\n",
      "          Dropout-51            [-1, 128, 4, 4]               0\n",
      "AdaptiveAvgPool2d-52            [-1, 128, 1, 1]               0\n",
      "           Linear-53                   [-1, 10]           1,280\n",
      "================================================================\n",
      "Total params: 179,904\n",
      "Trainable params: 179,904\n",
      "Non-trainable params: 0\n",
      "----------------------------------------------------------------\n",
      "Input size (MB): 0.01\n",
      "Forward/backward pass size (MB): 6.38\n",
      "Params size (MB): 0.69\n",
      "Estimated Total Size (MB): 7.07\n",
      "----------------------------------------------------------------\n",
      "\n",
      "Epoch: 0\n"
     ]
    },
    {
     "name": "stderr",
     "output_type": "stream",
     "text": [
      "Epoch 0 Train: Loss=1.5663 Acc=42.25%: 100%|██████████| 391/391 [00:04<00:00, 90.19it/s]\n"
     ]
    },
    {
     "name": "stdout",
     "output_type": "stream",
     "text": [
      "\n",
      "Test set: Average loss: 1.3152, Accuracy: 52.24%\n",
      "\n",
      "\n",
      "Epoch: 1\n"
     ]
    },
    {
     "name": "stderr",
     "output_type": "stream",
     "text": [
      "Epoch 1 Train: Loss=1.2284 Acc=55.40%: 100%|██████████| 391/391 [00:04<00:00, 89.70it/s]\n"
     ]
    },
    {
     "name": "stdout",
     "output_type": "stream",
     "text": [
      "\n",
      "Test set: Average loss: 1.0834, Accuracy: 61.01%\n",
      "\n",
      "\n",
      "Epoch: 2\n"
     ]
    },
    {
     "name": "stderr",
     "output_type": "stream",
     "text": [
      "Epoch 2 Train: Loss=1.0728 Acc=61.49%: 100%|██████████| 391/391 [00:04<00:00, 82.48it/s]\n"
     ]
    },
    {
     "name": "stdout",
     "output_type": "stream",
     "text": [
      "\n",
      "Test set: Average loss: 1.0382, Accuracy: 63.07%\n",
      "\n",
      "\n",
      "Epoch: 3\n"
     ]
    },
    {
     "name": "stderr",
     "output_type": "stream",
     "text": [
      "Epoch 3 Train: Loss=0.9613 Acc=65.40%: 100%|██████████| 391/391 [00:04<00:00, 83.07it/s]\n"
     ]
    },
    {
     "name": "stdout",
     "output_type": "stream",
     "text": [
      "\n",
      "Test set: Average loss: 0.9166, Accuracy: 66.67%\n",
      "\n",
      "\n",
      "Epoch: 4\n"
     ]
    },
    {
     "name": "stderr",
     "output_type": "stream",
     "text": [
      "Epoch 4 Train: Loss=0.8879 Acc=68.39%: 100%|██████████| 391/391 [00:05<00:00, 77.12it/s]\n"
     ]
    },
    {
     "name": "stdout",
     "output_type": "stream",
     "text": [
      "\n",
      "Test set: Average loss: 0.8258, Accuracy: 70.53%\n",
      "\n",
      "\n",
      "Epoch: 5\n"
     ]
    },
    {
     "name": "stderr",
     "output_type": "stream",
     "text": [
      "Epoch 5 Train: Loss=0.8261 Acc=70.54%: 100%|██████████| 391/391 [00:04<00:00, 90.20it/s]\n"
     ]
    },
    {
     "name": "stdout",
     "output_type": "stream",
     "text": [
      "\n",
      "Test set: Average loss: 0.8479, Accuracy: 70.55%\n",
      "\n",
      "\n",
      "Epoch: 6\n"
     ]
    },
    {
     "name": "stderr",
     "output_type": "stream",
     "text": [
      "Epoch 6 Train: Loss=0.7826 Acc=72.56%: 100%|██████████| 391/391 [00:04<00:00, 91.20it/s]\n"
     ]
    },
    {
     "name": "stdout",
     "output_type": "stream",
     "text": [
      "\n",
      "Test set: Average loss: 0.7877, Accuracy: 72.36%\n",
      "\n",
      "\n",
      "Epoch: 7\n"
     ]
    },
    {
     "name": "stderr",
     "output_type": "stream",
     "text": [
      "Epoch 7 Train: Loss=0.7421 Acc=73.81%: 100%|██████████| 391/391 [00:04<00:00, 89.66it/s]\n"
     ]
    },
    {
     "name": "stdout",
     "output_type": "stream",
     "text": [
      "\n",
      "Test set: Average loss: 0.7334, Accuracy: 74.53%\n",
      "\n",
      "\n",
      "Epoch: 8\n"
     ]
    },
    {
     "name": "stderr",
     "output_type": "stream",
     "text": [
      "Epoch 8 Train: Loss=0.7092 Acc=74.96%: 100%|██████████| 391/391 [00:04<00:00, 91.38it/s]\n"
     ]
    },
    {
     "name": "stdout",
     "output_type": "stream",
     "text": [
      "\n",
      "Test set: Average loss: 0.6616, Accuracy: 77.08%\n",
      "\n",
      "\n",
      "Epoch: 9\n"
     ]
    },
    {
     "name": "stderr",
     "output_type": "stream",
     "text": [
      "Epoch 9 Train: Loss=0.6719 Acc=76.51%: 100%|██████████| 391/391 [00:04<00:00, 91.84it/s]\n"
     ]
    },
    {
     "name": "stdout",
     "output_type": "stream",
     "text": [
      "\n",
      "Test set: Average loss: 0.6781, Accuracy: 76.52%\n",
      "\n",
      "\n",
      "Epoch: 10\n"
     ]
    },
    {
     "name": "stderr",
     "output_type": "stream",
     "text": [
      "Epoch 10 Train: Loss=0.6491 Acc=77.06%: 100%|██████████| 391/391 [00:04<00:00, 92.37it/s]\n"
     ]
    },
    {
     "name": "stdout",
     "output_type": "stream",
     "text": [
      "\n",
      "Test set: Average loss: 0.6426, Accuracy: 78.47%\n",
      "\n",
      "\n",
      "Epoch: 11\n"
     ]
    },
    {
     "name": "stderr",
     "output_type": "stream",
     "text": [
      "Epoch 11 Train: Loss=0.6277 Acc=78.10%: 100%|██████████| 391/391 [00:04<00:00, 84.60it/s]\n"
     ]
    },
    {
     "name": "stdout",
     "output_type": "stream",
     "text": [
      "\n",
      "Test set: Average loss: 0.5995, Accuracy: 79.54%\n",
      "\n",
      "\n",
      "Epoch: 12\n"
     ]
    },
    {
     "name": "stderr",
     "output_type": "stream",
     "text": [
      "Epoch 12 Train: Loss=0.6102 Acc=78.55%: 100%|██████████| 391/391 [00:04<00:00, 81.36it/s]\n"
     ]
    },
    {
     "name": "stdout",
     "output_type": "stream",
     "text": [
      "\n",
      "Test set: Average loss: 0.6102, Accuracy: 78.85%\n",
      "\n",
      "\n",
      "Epoch: 13\n"
     ]
    },
    {
     "name": "stderr",
     "output_type": "stream",
     "text": [
      "Epoch 13 Train: Loss=0.5912 Acc=79.46%: 100%|██████████| 391/391 [00:04<00:00, 89.21it/s]\n"
     ]
    },
    {
     "name": "stdout",
     "output_type": "stream",
     "text": [
      "\n",
      "Test set: Average loss: 0.5864, Accuracy: 79.75%\n",
      "\n",
      "\n",
      "Epoch: 14\n"
     ]
    },
    {
     "name": "stderr",
     "output_type": "stream",
     "text": [
      "Epoch 14 Train: Loss=0.5728 Acc=80.07%: 100%|██████████| 391/391 [00:04<00:00, 80.23it/s]\n"
     ]
    },
    {
     "name": "stdout",
     "output_type": "stream",
     "text": [
      "\n",
      "Test set: Average loss: 0.6093, Accuracy: 79.09%\n",
      "\n",
      "\n",
      "Epoch: 15\n"
     ]
    },
    {
     "name": "stderr",
     "output_type": "stream",
     "text": [
      "Epoch 15 Train: Loss=0.4927 Acc=83.01%: 100%|██████████| 391/391 [00:04<00:00, 83.75it/s]\n"
     ]
    },
    {
     "name": "stdout",
     "output_type": "stream",
     "text": [
      "\n",
      "Test set: Average loss: 0.4911, Accuracy: 83.17%\n",
      "\n",
      "\n",
      "Epoch: 16\n"
     ]
    },
    {
     "name": "stderr",
     "output_type": "stream",
     "text": [
      "Epoch 16 Train: Loss=0.4710 Acc=83.74%: 100%|██████████| 391/391 [00:04<00:00, 90.21it/s]\n"
     ]
    },
    {
     "name": "stdout",
     "output_type": "stream",
     "text": [
      "\n",
      "Test set: Average loss: 0.4881, Accuracy: 83.20%\n",
      "\n",
      "\n",
      "Epoch: 17\n"
     ]
    },
    {
     "name": "stderr",
     "output_type": "stream",
     "text": [
      "Epoch 17 Train: Loss=0.4575 Acc=84.16%: 100%|██████████| 391/391 [00:04<00:00, 80.87it/s]\n"
     ]
    },
    {
     "name": "stdout",
     "output_type": "stream",
     "text": [
      "\n",
      "Test set: Average loss: 0.4753, Accuracy: 83.60%\n",
      "\n",
      "\n",
      "Epoch: 18\n"
     ]
    },
    {
     "name": "stderr",
     "output_type": "stream",
     "text": [
      "Epoch 18 Train: Loss=0.4545 Acc=84.25%: 100%|██████████| 391/391 [00:04<00:00, 84.14it/s]\n"
     ]
    },
    {
     "name": "stdout",
     "output_type": "stream",
     "text": [
      "\n",
      "Test set: Average loss: 0.4728, Accuracy: 83.85%\n",
      "\n",
      "\n",
      "Epoch: 19\n"
     ]
    },
    {
     "name": "stderr",
     "output_type": "stream",
     "text": [
      "Epoch 19 Train: Loss=0.4495 Acc=84.28%: 100%|██████████| 391/391 [00:04<00:00, 83.40it/s]\n"
     ]
    },
    {
     "name": "stdout",
     "output_type": "stream",
     "text": [
      "\n",
      "Test set: Average loss: 0.4678, Accuracy: 83.93%\n",
      "\n",
      "\n",
      "Epoch: 20\n"
     ]
    },
    {
     "name": "stderr",
     "output_type": "stream",
     "text": [
      "Epoch 20 Train: Loss=0.4456 Acc=84.55%: 100%|██████████| 391/391 [00:04<00:00, 87.21it/s]\n"
     ]
    },
    {
     "name": "stdout",
     "output_type": "stream",
     "text": [
      "\n",
      "Test set: Average loss: 0.4699, Accuracy: 83.98%\n",
      "\n",
      "\n",
      "Epoch: 21\n"
     ]
    },
    {
     "name": "stderr",
     "output_type": "stream",
     "text": [
      "Epoch 21 Train: Loss=0.4412 Acc=84.69%: 100%|██████████| 391/391 [00:04<00:00, 84.07it/s]\n"
     ]
    },
    {
     "name": "stdout",
     "output_type": "stream",
     "text": [
      "\n",
      "Test set: Average loss: 0.4640, Accuracy: 84.00%\n",
      "\n",
      "\n",
      "Epoch: 22\n"
     ]
    },
    {
     "name": "stderr",
     "output_type": "stream",
     "text": [
      "Epoch 22 Train: Loss=0.4355 Acc=84.96%: 100%|██████████| 391/391 [00:04<00:00, 82.52it/s]\n"
     ]
    },
    {
     "name": "stdout",
     "output_type": "stream",
     "text": [
      "\n",
      "Test set: Average loss: 0.4651, Accuracy: 84.06%\n",
      "\n",
      "\n",
      "Epoch: 23\n"
     ]
    },
    {
     "name": "stderr",
     "output_type": "stream",
     "text": [
      "Epoch 23 Train: Loss=0.4296 Acc=85.06%: 100%|██████████| 391/391 [00:04<00:00, 85.51it/s]\n"
     ]
    },
    {
     "name": "stdout",
     "output_type": "stream",
     "text": [
      "\n",
      "Test set: Average loss: 0.4683, Accuracy: 84.00%\n",
      "\n",
      "\n",
      "Epoch: 24\n"
     ]
    },
    {
     "name": "stderr",
     "output_type": "stream",
     "text": [
      "Epoch 24 Train: Loss=0.4252 Acc=85.32%: 100%|██████████| 391/391 [00:04<00:00, 83.18it/s]\n"
     ]
    },
    {
     "name": "stdout",
     "output_type": "stream",
     "text": [
      "\n",
      "Test set: Average loss: 0.4626, Accuracy: 84.18%\n",
      "\n",
      "\n",
      "Epoch: 25\n"
     ]
    },
    {
     "name": "stderr",
     "output_type": "stream",
     "text": [
      "Epoch 25 Train: Loss=0.4235 Acc=85.21%: 100%|██████████| 391/391 [00:04<00:00, 82.30it/s]\n"
     ]
    },
    {
     "name": "stdout",
     "output_type": "stream",
     "text": [
      "\n",
      "Test set: Average loss: 0.4614, Accuracy: 84.18%\n",
      "\n",
      "\n",
      "Epoch: 26\n"
     ]
    },
    {
     "name": "stderr",
     "output_type": "stream",
     "text": [
      "Epoch 26 Train: Loss=0.4228 Acc=85.30%: 100%|██████████| 391/391 [00:04<00:00, 88.36it/s]\n"
     ]
    },
    {
     "name": "stdout",
     "output_type": "stream",
     "text": [
      "\n",
      "Test set: Average loss: 0.4649, Accuracy: 84.41%\n",
      "\n",
      "\n",
      "Epoch: 27\n"
     ]
    },
    {
     "name": "stderr",
     "output_type": "stream",
     "text": [
      "Epoch 27 Train: Loss=0.4162 Acc=85.61%: 100%|██████████| 391/391 [00:04<00:00, 78.88it/s]\n"
     ]
    },
    {
     "name": "stdout",
     "output_type": "stream",
     "text": [
      "\n",
      "Test set: Average loss: 0.4618, Accuracy: 84.70%\n",
      "\n",
      "\n",
      "Epoch: 28\n"
     ]
    },
    {
     "name": "stderr",
     "output_type": "stream",
     "text": [
      "Epoch 28 Train: Loss=0.4177 Acc=85.44%: 100%|██████████| 391/391 [00:04<00:00, 90.89it/s]\n"
     ]
    },
    {
     "name": "stdout",
     "output_type": "stream",
     "text": [
      "\n",
      "Test set: Average loss: 0.4574, Accuracy: 84.19%\n",
      "\n",
      "\n",
      "Epoch: 29\n"
     ]
    },
    {
     "name": "stderr",
     "output_type": "stream",
     "text": [
      "Epoch 29 Train: Loss=0.4152 Acc=85.57%: 100%|██████████| 391/391 [00:04<00:00, 87.07it/s]\n"
     ]
    },
    {
     "name": "stdout",
     "output_type": "stream",
     "text": [
      "\n",
      "Test set: Average loss: 0.4589, Accuracy: 84.54%\n",
      "\n",
      "\n",
      "Epoch: 30\n"
     ]
    },
    {
     "name": "stderr",
     "output_type": "stream",
     "text": [
      "Epoch 30 Train: Loss=0.3987 Acc=86.04%: 100%|██████████| 391/391 [00:04<00:00, 89.90it/s]\n"
     ]
    },
    {
     "name": "stdout",
     "output_type": "stream",
     "text": [
      "\n",
      "Test set: Average loss: 0.4521, Accuracy: 84.74%\n",
      "\n",
      "\n",
      "Epoch: 31\n"
     ]
    },
    {
     "name": "stderr",
     "output_type": "stream",
     "text": [
      "Epoch 31 Train: Loss=0.3988 Acc=86.20%: 100%|██████████| 391/391 [00:04<00:00, 88.07it/s]\n"
     ]
    },
    {
     "name": "stdout",
     "output_type": "stream",
     "text": [
      "\n",
      "Test set: Average loss: 0.4522, Accuracy: 84.68%\n",
      "\n",
      "\n",
      "Epoch: 32\n"
     ]
    },
    {
     "name": "stderr",
     "output_type": "stream",
     "text": [
      "Epoch 32 Train: Loss=0.3955 Acc=86.28%: 100%|██████████| 391/391 [00:04<00:00, 85.77it/s]\n"
     ]
    },
    {
     "name": "stdout",
     "output_type": "stream",
     "text": [
      "\n",
      "Test set: Average loss: 0.4502, Accuracy: 84.92%\n",
      "\n",
      "\n",
      "Epoch: 33\n"
     ]
    },
    {
     "name": "stderr",
     "output_type": "stream",
     "text": [
      "Epoch 33 Train: Loss=0.3951 Acc=86.15%: 100%|██████████| 391/391 [00:04<00:00, 86.86it/s]\n"
     ]
    },
    {
     "name": "stdout",
     "output_type": "stream",
     "text": [
      "\n",
      "Test set: Average loss: 0.4501, Accuracy: 85.03%\n",
      "\n",
      "\n",
      "Epoch: 34\n"
     ]
    },
    {
     "name": "stderr",
     "output_type": "stream",
     "text": [
      "Epoch 34 Train: Loss=0.3977 Acc=86.15%: 100%|██████████| 391/391 [00:04<00:00, 89.19it/s]\n"
     ]
    },
    {
     "name": "stdout",
     "output_type": "stream",
     "text": [
      "\n",
      "Test set: Average loss: 0.4481, Accuracy: 84.86%\n",
      "\n",
      "\n",
      "Epoch: 35\n"
     ]
    },
    {
     "name": "stderr",
     "output_type": "stream",
     "text": [
      "Epoch 35 Train: Loss=0.3903 Acc=86.36%: 100%|██████████| 391/391 [00:04<00:00, 84.93it/s]\n"
     ]
    },
    {
     "name": "stdout",
     "output_type": "stream",
     "text": [
      "\n",
      "Test set: Average loss: 0.4503, Accuracy: 84.80%\n",
      "\n",
      "\n",
      "Epoch: 36\n"
     ]
    },
    {
     "name": "stderr",
     "output_type": "stream",
     "text": [
      "Epoch 36 Train: Loss=0.3937 Acc=86.26%: 100%|██████████| 391/391 [00:04<00:00, 85.82it/s]\n"
     ]
    },
    {
     "name": "stdout",
     "output_type": "stream",
     "text": [
      "\n",
      "Test set: Average loss: 0.4508, Accuracy: 84.88%\n",
      "\n",
      "\n",
      "Epoch: 37\n"
     ]
    },
    {
     "name": "stderr",
     "output_type": "stream",
     "text": [
      "Epoch 37 Train: Loss=0.3961 Acc=86.29%: 100%|██████████| 391/391 [00:04<00:00, 88.01it/s]\n"
     ]
    },
    {
     "name": "stdout",
     "output_type": "stream",
     "text": [
      "\n",
      "Test set: Average loss: 0.4526, Accuracy: 84.83%\n",
      "\n",
      "\n",
      "Epoch: 38\n"
     ]
    },
    {
     "name": "stderr",
     "output_type": "stream",
     "text": [
      "Epoch 38 Train: Loss=0.3947 Acc=86.26%:  82%|████████▏ | 319/391 [00:03<00:00, 88.93it/s]"
     ]
    }
   ],
   "source": [
    "import torch\n",
    "import torch.nn as nn\n",
    "import torch.optim as optim\n",
    "import torch.nn.functional as F\n",
    "from torchsummary import summary\n",
    "from model import Net\n",
    "from dataset import DatasetLoader\n",
    "import multiprocessing\n",
    "from func_train_test import train, test\n",
    "import matplotlib.pyplot as plt\n",
    "import numpy as np\n",
    "\n",
    "def show_sample_images(dataloader, classes, num_images=20):\n",
    "    \"\"\"\n",
    "    Show sample images from the training dataset\n",
    "    \"\"\"\n",
    "    # Get a batch of training images\n",
    "    images, labels = next(iter(dataloader))\n",
    "    \n",
    "    # Create figure\n",
    "    fig = plt.figure(figsize=(20, 10))\n",
    "    \n",
    "    # Show images\n",
    "    for i in range(min(num_images, len(images))):\n",
    "        ax = fig.add_subplot(4, 5, i + 1)\n",
    "        \n",
    "        # Convert tensor to numpy and transpose to correct format\n",
    "        img = images[i].numpy().transpose(1, 2, 0)\n",
    "        \n",
    "        # Denormalize the image\n",
    "        mean = np.array([0.5, 0.5, 0.5])\n",
    "        std = np.array([0.5, 0.5, 0.5])\n",
    "        img = std * img + mean\n",
    "        img = np.clip(img, 0, 1)\n",
    "        \n",
    "        ax.imshow(img)\n",
    "        ax.set_title(f'Class: {classes[labels[i]]}')\n",
    "        ax.axis('off')\n",
    "    \n",
    "    plt.tight_layout()\n",
    "    plt.savefig('sample_training_images.png')\n",
    "    plt.close()\n",
    "    \n",
    "    # Print class distribution in this batch\n",
    "    unique_labels, counts = np.unique(labels.numpy(), return_counts=True)\n",
    "    print(\"\\nClass distribution in sample batch:\")\n",
    "    for label, count in zip(unique_labels, counts):\n",
    "        print(f\"{classes[label]}: {count} images\")\n",
    "\n",
    "def show_misclassified(images, predictions, targets, classes):\n",
    "    \"\"\"\n",
    "    Show misclassified images in a grid\n",
    "    \"\"\"\n",
    "    fig = plt.figure(figsize=(20, 10))\n",
    "    for i in range(min(20, len(images))):  # Show up to 20 images\n",
    "        ax = fig.add_subplot(4, 5, i + 1)\n",
    "        # Convert tensor to numpy and transpose to correct format\n",
    "        img = images[i].cpu().numpy().transpose(1, 2, 0)\n",
    "        # Denormalize the image\n",
    "        mean = np.array([0.5, 0.5, 0.5])\n",
    "        std = np.array([0.5, 0.5, 0.5])\n",
    "        img = std * img + mean\n",
    "        img = np.clip(img, 0, 1)\n",
    "        \n",
    "        ax.imshow(img)\n",
    "        ax.set_title(f'Pred: {classes[predictions[i]]}\\nTrue: {classes[targets[i]]}')\n",
    "        ax.axis('off')\n",
    "    plt.tight_layout()\n",
    "    plt.savefig(f'misclassified_examples.png')\n",
    "    plt.close()\n",
    "\n",
    "def main():\n",
    "    # Debug flag\n",
    "    DEBUG = False  # Set to False to disable misclassified images visualization\n",
    "    \n",
    "    # Training settings\n",
    "    EPOCHS = 50\n",
    "    BATCH_SIZE = 128\n",
    "    \n",
    "    # CIFAR10 classes\n",
    "    classes = ('plane', 'car', 'bird', 'cat', 'deer',\n",
    "              'dog', 'frog', 'horse', 'ship', 'truck')\n",
    "    \n",
    "    device = torch.device(\"cuda\" if torch.cuda.is_available() else \"cpu\")\n",
    "    print(f\"Using device: {device}\")\n",
    "    \n",
    "    # Data loaders\n",
    "    get_data = DatasetLoader(batch_size=BATCH_SIZE)\n",
    "    train_loader = get_data.train_loader()\n",
    "    test_loader = get_data.test_loader()\n",
    "    \n",
    "    # Show sample training images\n",
    "    print(\"\\nDisplaying sample training images...\")\n",
    "    show_sample_images(train_loader, classes)\n",
    "    \n",
    "    # Model\n",
    "    model = Net().to(device)\n",
    "    summary(model, input_size=(3, 32, 32))\n",
    "    \n",
    "    # Optimizer and criterion\n",
    "    optimizer = optim.SGD(model.parameters(), lr=0.05, momentum=0.9, weight_decay=5e-4)\n",
    "    scheduler = optim.lr_scheduler.StepLR(optimizer, step_size=15, gamma=0.1)\n",
    "    criterion = nn.CrossEntropyLoss()\n",
    "    \n",
    "    # Training history\n",
    "    train_losses = []\n",
    "    test_losses = []\n",
    "    train_accs = []\n",
    "    test_accs = []\n",
    "    \n",
    "    for epoch in range(EPOCHS):\n",
    "        print(f\"\\nEpoch: {epoch}\")\n",
    "        \n",
    "        # Train\n",
    "        train_loss, train_acc = train(model, device, train_loader, optimizer, criterion, epoch)\n",
    "        train_losses.append(train_loss)\n",
    "        train_accs.append(train_acc)\n",
    "        \n",
    "        # Test and collect misclassified examples\n",
    "        test_loss, test_acc, misclassified = test(model, device, test_loader, criterion, debug=DEBUG)\n",
    "        test_losses.append(test_loss)\n",
    "        test_accs.append(test_acc)\n",
    "        \n",
    "        # If in debug mode and we have misclassified examples, show them\n",
    "        if DEBUG and misclassified and epoch % 5 == 0:  # Show every 5 epochs\n",
    "            images, predictions, targets = misclassified\n",
    "            show_misclassified(images, predictions, targets, classes)\n",
    "        \n",
    "        scheduler.step()\n",
    "    \n",
    "    # Plot training history\n",
    "    plt.figure(figsize=(12, 4))\n",
    "    \n",
    "    plt.subplot(1, 2, 1)\n",
    "    plt.plot(train_losses, label='Train Loss')\n",
    "    plt.plot(test_losses, label='Test Loss')\n",
    "    plt.xlabel('Epoch')\n",
    "    plt.ylabel('Loss')\n",
    "    plt.legend()\n",
    "    \n",
    "    plt.subplot(1, 2, 2)\n",
    "    plt.plot(train_accs, label='Train Accuracy')\n",
    "    plt.plot(test_accs, label='Test Accuracy')\n",
    "    plt.xlabel('Epoch')\n",
    "    plt.ylabel('Accuracy (%)')\n",
    "    plt.legend()\n",
    "    \n",
    "    plt.tight_layout()\n",
    "    plt.savefig('training_history.png')\n",
    "    plt.close()\n",
    " \n",
    "multiprocessing.freeze_support()\n",
    "main()"
   ]
  }
 ],
 "metadata": {
  "kernelspec": {
   "display_name": "pytorch-gpu",
   "language": "python",
   "name": "python3"
  },
  "language_info": {
   "codemirror_mode": {
    "name": "ipython",
    "version": 3
   },
   "file_extension": ".py",
   "mimetype": "text/x-python",
   "name": "python",
   "nbconvert_exporter": "python",
   "pygments_lexer": "ipython3",
   "version": "3.9.21"
  }
 },
 "nbformat": 4,
 "nbformat_minor": 2
}
